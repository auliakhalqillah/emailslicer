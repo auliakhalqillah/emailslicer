{
 "cells": [
  {
   "cell_type": "markdown",
   "source": [
    "# Email Slicer"
   ],
   "metadata": {}
  },
  {
   "cell_type": "markdown",
   "source": [
    "Mini project 1: Creating Email Slicer Program"
   ],
   "metadata": {}
  },
  {
   "cell_type": "code",
   "execution_count": 2,
   "source": [
    "nama_email = 'aulia@gmail.com'"
   ],
   "outputs": [],
   "metadata": {}
  },
  {
   "cell_type": "markdown",
   "source": [
    "The result can be viewed in two ways. The first way is just type its variable name and the second way by using `print()` function. For example, type the variable name as follow"
   ],
   "metadata": {}
  },
  {
   "cell_type": "code",
   "execution_count": 3,
   "source": [
    "nama_email"
   ],
   "outputs": [
    {
     "output_type": "execute_result",
     "data": {
      "text/plain": [
       "'aulia@gmail.com'"
      ]
     },
     "metadata": {},
     "execution_count": 3
    }
   ],
   "metadata": {}
  },
  {
   "cell_type": "markdown",
   "source": [
    "and using `print()`"
   ],
   "metadata": {}
  },
  {
   "cell_type": "code",
   "execution_count": 4,
   "source": [
    "print(nama_email)"
   ],
   "outputs": [
    {
     "output_type": "stream",
     "name": "stdout",
     "text": [
      "aulia@gmail.com\n"
     ]
    }
   ],
   "metadata": {}
  },
  {
   "cell_type": "markdown",
   "source": [
    "To check the variable type, we can use `type()` function as follow"
   ],
   "metadata": {}
  },
  {
   "cell_type": "code",
   "execution_count": 5,
   "source": [
    "print(type(nama_email))"
   ],
   "outputs": [
    {
     "output_type": "stream",
     "name": "stdout",
     "text": [
      "<class 'str'>\n"
     ]
    }
   ],
   "metadata": {}
  },
  {
   "cell_type": "markdown",
   "source": [
    "The `str` stands for string variable type. We can use `len()` function to identify the length of variable as follow"
   ],
   "metadata": {}
  },
  {
   "cell_type": "code",
   "execution_count": 7,
   "source": [
    "N = len(nama_email)\r\n",
    "print(N)"
   ],
   "outputs": [
    {
     "output_type": "stream",
     "name": "stdout",
     "text": [
      "15\n"
     ]
    }
   ],
   "metadata": {}
  },
  {
   "cell_type": "markdown",
   "source": [
    "The algorithm to slice an email name can be applied by using the following code"
   ],
   "metadata": {}
  },
  {
   "cell_type": "code",
   "execution_count": 8,
   "source": [
    "for i in range(N):\r\n",
    "    if (nama_email[i] == '@'):\r\n",
    "        username = nama_email[0:i]\r\n",
    "        domain = nama_email[i+1:N]\r\n",
    "        break\r\n",
    "    else:\r\n",
    "        continue\r\n",
    "\r\n",
    "print('Username:',username)\r\n",
    "print('Domain Email:', domain)"
   ],
   "outputs": [
    {
     "output_type": "stream",
     "name": "stdout",
     "text": [
      "Username: aulia\n",
      "Domai Email: gmail.com\n"
     ]
    }
   ],
   "metadata": {}
  },
  {
   "cell_type": "markdown",
   "source": [
    "In Python, the index number is started from 0 as a first data. For more information about index slicing, [click here](https://github.com/auliakhalqillah/Introduction-to-Python/blob/main/py_tutorial.ipynb). \r\n",
    "\r\n",
    "The `break` statement in code above is used to stop the iteration process if the condition of logical statement is fulfilled. Otherwise, the `continue` statement will process the iteration if the condition of logical statement is not fulfilled. These statements can be used only in iteration process (`for` or `while` forms). For example, when the `nama_email` of iteration i-th is meet to `@`, the iteration will be stopped. "
   ],
   "metadata": {}
  }
 ],
 "metadata": {
  "orig_nbformat": 4,
  "language_info": {
   "name": "python",
   "version": "3.8.7",
   "mimetype": "text/x-python",
   "codemirror_mode": {
    "name": "ipython",
    "version": 3
   },
   "pygments_lexer": "ipython3",
   "nbconvert_exporter": "python",
   "file_extension": ".py"
  },
  "kernelspec": {
   "name": "python3",
   "display_name": "Python 3.8.7 64-bit"
  },
  "interpreter": {
   "hash": "e69d00bb00a3c57c68d32a779445829bd31553aaa0c5d1d90f5fdd3563894b91"
  }
 },
 "nbformat": 4,
 "nbformat_minor": 2
}