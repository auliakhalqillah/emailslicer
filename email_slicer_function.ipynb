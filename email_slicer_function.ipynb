{
 "cells": [
  {
   "cell_type": "markdown",
   "metadata": {},
   "source": [
    "# Email Slicer\n",
    "\n",
    "Mini Project 1: Creating a Function and Graphical User Interface (GUI)"
   ]
  },
  {
   "cell_type": "markdown",
   "metadata": {},
   "source": [
    "## Creating a Main Function to slice a en email"
   ]
  },
  {
   "cell_type": "code",
   "execution_count": 1,
   "metadata": {},
   "outputs": [],
   "source": [
    "def split_domain(nama_email):\n",
    "    N = len(nama_email)\n",
    "    for i in range(N):\n",
    "        if (nama_email[i] == '@'):\n",
    "            username = nama_email[0:i]\n",
    "            domain = nama_email[i+1:N]\n",
    "            break\n",
    "        else:\n",
    "            continue\n",
    "\n",
    "    return username, domain"
   ]
  },
  {
   "cell_type": "markdown",
   "metadata": {},
   "source": [
    "## Creating a Function of Split Command for GUI"
   ]
  },
  {
   "cell_type": "code",
   "execution_count": 2,
   "metadata": {},
   "outputs": [],
   "source": [
    "def call_split():\n",
    "    nama_email = entry_email.get()\n",
    "    username, domain = split_domain(nama_email)\n",
    "\n",
    "    result_username = tk.Label(window, text=username)\n",
    "    result_username.place(x=70, y=100)\n",
    "\n",
    "    result_domain = tk.Label(window, text=domain)\n",
    "    result_domain.place(x=70, y=120)\n",
    "\n",
    "    main_table.insert(parent='', index='end', values=(username, domain))"
   ]
  },
  {
   "cell_type": "markdown",
   "metadata": {},
   "source": [
    "## Creating a Function of Save a Data to CSV file"
   ]
  },
  {
   "cell_type": "code",
   "execution_count": 3,
   "metadata": {},
   "outputs": [],
   "source": [
    "import pandas as pd\n",
    "from tkinter import filedialog\n",
    "\n",
    "def savetocsv():\n",
    "     uname = [] \n",
    "     edomain = []\n",
    "     for row_id in main_table.get_children():\n",
    "          row = main_table.item(row_id)[\"values\"]\n",
    "          uname.append(row[0])\n",
    "          edomain.append(row[1])\n",
    "     store_dict = {'Username':uname, 'Email Domain':edomain}\n",
    "     store = pd.DataFrame(store_dict)\n",
    "     file = filedialog.asksaveasfile(initialfile = 'Untitled.csv',defaultextension=\".csv\", filetypes=[(\"CSV-Comma Separated Values\",\"*.csv\")])\n",
    "     store.to_csv(file, index=False, encoding='utf-8')\n",
    "     print(store)"
   ]
  },
  {
   "cell_type": "markdown",
   "metadata": {},
   "source": [
    "To get the data from entire table, we use `.get_children()` for the table variable (e.g main_table). Each row in the table has a `values` key where the data is saved. We have to use `.item` for each row to extract the data. Then, we extract the data based on column order.\n",
    "\n",
    "To save the data as CSV file, we use `.to_csv()` from pandas library. \n",
    "\n",
    "The `.asksaveasfile()` is a function to give us direction where the data will be saved."
   ]
  },
  {
   "cell_type": "markdown",
   "metadata": {},
   "source": [
    "## Test the email slicer function"
   ]
  },
  {
   "cell_type": "code",
   "execution_count": 4,
   "metadata": {},
   "outputs": [
    {
     "name": "stdout",
     "output_type": "stream",
     "text": [
      "aulia\n",
      "gmail.com\n"
     ]
    }
   ],
   "source": [
    "username, domain = split_domain('aulia@gmail.com')\n",
    "print(username)\n",
    "print(domain)"
   ]
  },
  {
   "cell_type": "markdown",
   "metadata": {},
   "source": [
    "## Creating Graphical User Interface (GUI)\n",
    "\n",
    "The `tk` is an alias of tkinter library to create a GUI. Then, the `ttk` is a function of tkinter to create a table (treeview)"
   ]
  },
  {
   "cell_type": "code",
   "execution_count": 5,
   "metadata": {},
   "outputs": [],
   "source": [
    "import tkinter as tk\n",
    "from tkinter import ttk"
   ]
  },
  {
   "cell_type": "markdown",
   "metadata": {},
   "source": [
    "### Setting a GUI\n",
    "\n",
    "We can adjust the size of GUI window by using `geometry` function and give a name of GUI by using `title` function."
   ]
  },
  {
   "cell_type": "code",
   "execution_count": 6,
   "metadata": {},
   "outputs": [
    {
     "data": {
      "text/plain": [
       "''"
      ]
     },
     "execution_count": 6,
     "metadata": {},
     "output_type": "execute_result"
    }
   ],
   "source": [
    "window = tk.Tk()\n",
    "window.geometry('420x400')\n",
    "window.title('Email Slicer')"
   ]
  },
  {
   "cell_type": "markdown",
   "metadata": {},
   "source": [
    "Then we create some items in main window such as `Label`, `Entry` and `Button`. The position for each item can be adjusted by using `place` function as cartesian coordinates (x and y).\n",
    "\n",
    "1. Label: an item to create a text for giving such an information\n",
    "2. Entry: an item to accept a values from a user\n",
    "3. Button: an item to create a button for applying such a process\n",
    "4. place: a method to adjust an item's position inside GUI "
   ]
  },
  {
   "cell_type": "code",
   "execution_count": 7,
   "metadata": {},
   "outputs": [],
   "source": [
    "# Label input\n",
    "input_email = tk.Label(window, text='Input Email:')\n",
    "input_email.place(x=10, y=10)\n",
    "\n",
    "# Entry\n",
    "entry_email = tk.Entry(window, width=45)\n",
    "entry_email.place(x=100, y=10)\n",
    "\n",
    "# Button\n",
    "split_btn = tk.Button(window,text=\"Split\", width=10, command=call_split)\n",
    "split_btn.place(x=10, y=50)\n",
    "\n",
    "save_btn = tk.Button(window,text=\"Save\", width=10, command=savetocsv)\n",
    "save_btn.place(x=100, y=50)\n",
    "\n",
    "# Label Username\n",
    "label_username = tk.Label(window, text='Username:')\n",
    "label_username.place(x=10, y=100)\n",
    "\n",
    "# Label Domain\n",
    "label_domain = tk.Label(window, text='Domain:')\n",
    "label_domain.place(x=10, y=120)"
   ]
  },
  {
   "cell_type": "markdown",
   "metadata": {},
   "source": [
    "The `Treeview` is used to create a table in GUI."
   ]
  },
  {
   "cell_type": "code",
   "execution_count": 8,
   "metadata": {},
   "outputs": [
    {
     "data": {
      "text/plain": [
       "{}"
      ]
     },
     "execution_count": 8,
     "metadata": {},
     "output_type": "execute_result"
    }
   ],
   "source": [
    "main_table = ttk.Treeview(window, columns=('Username','Domain'), show='headings', height=4)\n",
    "main_table.place(x=10,y=150)\n",
    "main_table.column(\"#1\", anchor='center')\n",
    "main_table.column(\"# 2\", anchor='center')\n",
    "\n",
    "main_table.heading(\"#1\", text=\"Username\")\n",
    "main_table.heading(\"#2\", text=\"Domain\")"
   ]
  },
  {
   "cell_type": "markdown",
   "metadata": {},
   "source": [
    "To show the GUI while the executing process, we have to write `mainloop` at the last line"
   ]
  },
  {
   "cell_type": "code",
   "execution_count": 9,
   "metadata": {},
   "outputs": [
    {
     "name": "stdout",
     "output_type": "stream",
     "text": [
      "  Username Email Domain\n",
      "0    aulia    yahoo.com\n",
      "1     diki    gmail.com\n"
     ]
    }
   ],
   "source": [
    "window.mainloop()"
   ]
  }
 ],
 "metadata": {
  "interpreter": {
   "hash": "e69d00bb00a3c57c68d32a779445829bd31553aaa0c5d1d90f5fdd3563894b91"
  },
  "kernelspec": {
   "display_name": "Python 3.8.7 64-bit",
   "name": "python3"
  },
  "language_info": {
   "codemirror_mode": {
    "name": "ipython",
    "version": 3
   },
   "file_extension": ".py",
   "mimetype": "text/x-python",
   "name": "python",
   "nbconvert_exporter": "python",
   "pygments_lexer": "ipython3",
   "version": "3.8.7"
  },
  "orig_nbformat": 4
 },
 "nbformat": 4,
 "nbformat_minor": 2
}
